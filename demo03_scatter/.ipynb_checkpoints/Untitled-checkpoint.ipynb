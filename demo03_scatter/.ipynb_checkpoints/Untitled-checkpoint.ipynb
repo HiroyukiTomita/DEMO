{
 "cells": [
  {
   "cell_type": "code",
   "execution_count": 1,
   "metadata": {
    "collapsed": true
   },
   "outputs": [],
   "source": [
    "import pandas as pd\n",
    "import matplotlib.pyplot as plt"
   ]
  },
  {
   "cell_type": "code",
   "execution_count": 2,
   "metadata": {
    "collapsed": true
   },
   "outputs": [],
   "source": [
    "res = pd.read_table('sensitivity_normalized.txt', sep=' ', skipinitialspace=True)"
   ]
  },
  {
   "cell_type": "code",
   "execution_count": 3,
   "metadata": {},
   "outputs": [
    {
     "data": {
      "text/html": [
       "<div>\n",
       "<style>\n",
       "    .dataframe thead tr:only-child th {\n",
       "        text-align: right;\n",
       "    }\n",
       "\n",
       "    .dataframe thead th {\n",
       "        text-align: left;\n",
       "    }\n",
       "\n",
       "    .dataframe tbody tr th {\n",
       "        vertical-align: top;\n",
       "    }\n",
       "</style>\n",
       "<table border=\"1\" class=\"dataframe\">\n",
       "  <thead>\n",
       "    <tr style=\"text-align: right;\">\n",
       "      <th></th>\n",
       "      <th>Hv</th>\n",
       "      <th>TB19v</th>\n",
       "      <th>TB19h</th>\n",
       "      <th>TB22v</th>\n",
       "      <th>TB37v</th>\n",
       "      <th>TB37h</th>\n",
       "      <th>TB85v</th>\n",
       "      <th>TB85h</th>\n",
       "    </tr>\n",
       "  </thead>\n",
       "  <tbody>\n",
       "    <tr>\n",
       "      <th>0</th>\n",
       "      <td>1125.8</td>\n",
       "      <td>1.000</td>\n",
       "      <td>1.000</td>\n",
       "      <td>1.000</td>\n",
       "      <td>1.000</td>\n",
       "      <td>0.989</td>\n",
       "      <td>1.000</td>\n",
       "      <td>1.000</td>\n",
       "    </tr>\n",
       "    <tr>\n",
       "      <th>1</th>\n",
       "      <td>1576.3</td>\n",
       "      <td>0.983</td>\n",
       "      <td>0.956</td>\n",
       "      <td>0.972</td>\n",
       "      <td>0.990</td>\n",
       "      <td>0.962</td>\n",
       "      <td>0.986</td>\n",
       "      <td>0.958</td>\n",
       "    </tr>\n",
       "    <tr>\n",
       "      <th>2</th>\n",
       "      <td>2046.9</td>\n",
       "      <td>0.980</td>\n",
       "      <td>0.956</td>\n",
       "      <td>0.960</td>\n",
       "      <td>0.994</td>\n",
       "      <td>1.000</td>\n",
       "      <td>0.984</td>\n",
       "      <td>0.964</td>\n",
       "    </tr>\n",
       "    <tr>\n",
       "      <th>3</th>\n",
       "      <td>2486.6</td>\n",
       "      <td>0.961</td>\n",
       "      <td>0.908</td>\n",
       "      <td>0.935</td>\n",
       "      <td>0.978</td>\n",
       "      <td>0.955</td>\n",
       "      <td>0.975</td>\n",
       "      <td>0.938</td>\n",
       "    </tr>\n",
       "    <tr>\n",
       "      <th>4</th>\n",
       "      <td>3274.0</td>\n",
       "      <td>0.946</td>\n",
       "      <td>0.860</td>\n",
       "      <td>0.907</td>\n",
       "      <td>0.961</td>\n",
       "      <td>0.887</td>\n",
       "      <td>0.959</td>\n",
       "      <td>0.880</td>\n",
       "    </tr>\n",
       "  </tbody>\n",
       "</table>\n",
       "</div>"
      ],
      "text/plain": [
       "       Hv  TB19v  TB19h  TB22v  TB37v  TB37h  TB85v  TB85h\n",
       "0  1125.8  1.000  1.000  1.000  1.000  0.989  1.000  1.000\n",
       "1  1576.3  0.983  0.956  0.972  0.990  0.962  0.986  0.958\n",
       "2  2046.9  0.980  0.956  0.960  0.994  1.000  0.984  0.964\n",
       "3  2486.6  0.961  0.908  0.935  0.978  0.955  0.975  0.938\n",
       "4  3274.0  0.946  0.860  0.907  0.961  0.887  0.959  0.880"
      ]
     },
     "execution_count": 3,
     "metadata": {},
     "output_type": "execute_result"
    }
   ],
   "source": [
    "res\t#データフレーム全体の確認"
   ]
  },
  {
   "cell_type": "code",
   "execution_count": 4,
   "metadata": {},
   "outputs": [
    {
     "data": {
      "text/plain": [
       "Index(['Hv', 'TB19v', 'TB19h', 'TB22v', 'TB37v', 'TB37h', 'TB85v', 'TB85h'], dtype='object')"
      ]
     },
     "execution_count": 4,
     "metadata": {},
     "output_type": "execute_result"
    }
   ],
   "source": [
    "res.columns #列名の確認"
   ]
  },
  {
   "cell_type": "code",
   "execution_count": 5,
   "metadata": {
    "collapsed": true
   },
   "outputs": [],
   "source": [
    "fig = plt.figure()  #Figureオブジェクトの作成"
   ]
  },
  {
   "cell_type": "code",
   "execution_count": 7,
   "metadata": {
    "collapsed": true
   },
   "outputs": [],
   "source": [
    "ax = fig.add_subplot(111) #Figureオブジェクトにサブプロットの追加"
   ]
  },
  {
   "cell_type": "code",
   "execution_count": 8,
   "metadata": {},
   "outputs": [
    {
     "name": "stdout",
     "output_type": "stream",
     "text": [
      "TB19v\n",
      "TB19h\n",
      "TB22v\n",
      "TB37v\n",
      "TB37h\n",
      "TB85v\n",
      "TB85h\n"
     ]
    }
   ],
   "source": [
    "for col in res.columns:\n",
    "   if (col != 'Hv'):\n",
    "     print(col)\n",
    "     ax.scatter(res.Hv, res[col], label=col)"
   ]
  },
  {
   "cell_type": "code",
   "execution_count": 9,
   "metadata": {},
   "outputs": [
    {
     "data": {
      "image/png": "[encoded data removed]",
      "text/plain": [
       "<matplotlib.figure.Figure at 0x115eb8f60>"
      ]
     },
     "metadata": {},
     "output_type": "display_data"
    }
   ],
   "source": [
    "ax.set_xlabel('Hv [m]',fontsize=12)\n",
    "ax.set_ylabel('Normalized sensitivity', fontsize=12)\n",
    "ax.legend(loc='lower left', fontsize=10)\n",
    "plt.savefig('fig_sensitivity.png', dpi=300)\n",
    "plt.savefig('fig_sensitivity.ps')\n",
    "plt.show()"
   ]
  }
 ],
 "metadata": {
  "kernelspec": {
   "display_name": "Python 3",
   "language": "python",
   "name": "python3"
  },
  "language_info": {
   "codemirror_mode": {
    "name": "ipython",
    "version": 3
   },
   "file_extension": ".py",
   "mimetype": "text/x-python",
   "name": "python",
   "nbconvert_exporter": "python",
   "pygments_lexer": "ipython3",
   "version": "3.6.1"
  }
 },
 "nbformat": 4,
 "nbformat_minor": 2
}
